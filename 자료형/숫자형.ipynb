{
 "cells": [
  {
   "attachments": {},
   "cell_type": "markdown",
   "metadata": {},
   "source": [
    "# 숫자형(Number)이란?\n",
    "***\n",
    "숫자 형태로 이루어진 자료형으로 이미 잘 알고 사용하고 있는것이다. <br>\n",
    "정수, 실수, 드물게는 8진수나 16진수도 있다."
   ]
  },
  {
   "attachments": {},
   "cell_type": "markdown",
   "metadata": {},
   "source": [
<<<<<<< HEAD
    "<table style=\"float:left\">\n",
=======
    "<table style="float:left">\n",
>>>>>>> 08796ff34e700dc535fba79267c5a5680389bd74
    "\t<th>항목</th>\n",
    "\t<th>사용 예</th>\n",
    "\t<tr>\n",
    "\t  <td>정수</td>\n",
    "\t  <td>123, -345, 0</td>\n",
    "\t</tr>\n",
    "\t<tr>\n",
    "\t  <td>실수</td>\n",
    "\t  <td>123.45, -1234.5, 3.4e10</td>\n",
    "\t</tr>\n",
    "\t<tr>\n",
    "\t  <td>8진수</td>\n",
    "\t  <td>0o34, 0o25</td>\n",
    "\t</tr>\n",
    "\t<tr>\n",
    "\t  <td>16진수</td>\n",
    "\t  <td>0x2A, 0xFF</td>\n",
    "\t</tr>\n",
    "</table>"
   ]
  },
  {
   "attachments": {},
   "cell_type": "markdown",
   "metadata": {},
   "source": [
    "### 정수형 (Integer)\n",
    "정수를 뜻하는 자료형이다."
   ]
  },
  {
   "cell_type": "code",
   "execution_count": 2,
   "metadata": {},
   "outputs": [],
   "source": [
    "positive = 100   # 양의 정수\n",
    "zero = 0         # 0\n",
    "negative = -100  # 음의 정수"
   ]
  },
  {
   "cell_type": "markdown",
   "metadata": {},
   "source": [
    "### 실수형(Floating-point)\n",
    "실수형은 소수점이 포함된 숫자를 말한다."
   ]
  },
  {
   "cell_type": "code",
   "execution_count": 3,
   "metadata": {},
   "outputs": [],
   "source": [
    "f = 1.5\n",
    "f = -1.5"
   ]
  },
  {
   "cell_type": "markdown",
   "metadata": {},
   "source": [
    "- 컴퓨터식 지수 표현 방식"
   ]
  },
  {
   "cell_type": "code",
   "execution_count": null,
   "metadata": {},
   "outputs": [],
   "source": [
    "f = 4.24E10   # 4.24*10의 10승\n",
    "f = 4.24e-10  # 4.24*10의 -10승"
   ]
  },
  {
   "attachments": {},
   "cell_type": "markdown",
   "metadata": {},
   "source": [
    "### 8진수(Octal)와 16진수(Hexadecimal)\n",
    "8진수 : 숫자 0 + 알파벳 소문자 o 또는 대문자 O <br>\n",
    "16진수 : 0x\n",
    "\n",
    "<br>\n",
    "※ 파이썬에서는 잘 사용하지 않음."
   ]
  },
  {
   "cell_type": "code",
   "execution_count": 4,
   "metadata": {},
   "outputs": [],
   "source": [
    "# 8진수 \n",
    "a = 0o177\n",
    "\n",
    "# 16 진수\n",
    "a = 0x8ff\n",
    "b = 0xABC"
   ]
  },
  {
   "cell_type": "markdown",
   "metadata": {},
   "source": [
    "# 숫자형을 활용하기 위한 연산자\n",
    "***"
   ]
  },
  {
   "cell_type": "code",
   "execution_count": 5,
   "metadata": {},
   "outputs": [],
   "source": [
    "a = 3\n",
    "b = 4"
   ]
  },
  {
   "cell_type": "markdown",
   "metadata": {},
   "source": [
    "### 사칙 연산"
   ]
  },
  {
   "cell_type": "code",
   "execution_count": 7,
   "metadata": {},
   "outputs": [
    {
     "name": "stdout",
     "output_type": "stream",
     "text": [
      "7\n",
      "-1\n",
      "12\n",
      "0.75\n"
     ]
    }
   ],
   "source": [
    "print(a + b)\n",
    "print(a - b)\n",
    "print(a * b)\n",
    "print(a / b)"
   ]
  },
  {
   "cell_type": "markdown",
   "metadata": {},
   "source": [
    "### x의 y제곱을 나타내는 ** 연산자"
   ]
  },
  {
   "cell_type": "code",
   "execution_count": 8,
   "metadata": {},
   "outputs": [
    {
     "data": {
      "text/plain": [
       "81"
      ]
     },
     "execution_count": 8,
     "metadata": {},
     "output_type": "execute_result"
    }
   ],
   "source": [
    "a ** b"
   ]
  },
  {
   "cell_type": "markdown",
   "metadata": {},
   "source": [
    "### 나눗셈 후 나머지를 반환하는 % 연산자"
   ]
  },
  {
   "cell_type": "code",
   "execution_count": 10,
   "metadata": {},
   "outputs": [
    {
     "name": "stdout",
     "output_type": "stream",
     "text": [
      "3\n",
      "1\n"
     ]
    }
   ],
   "source": [
    "print(a % b)\n",
    "print(b % a)"
   ]
  },
  {
   "cell_type": "markdown",
   "metadata": {},
   "source": [
    "### 나눗셈 후 몫을 반환하는 // 연산자"
   ]
  },
  {
   "cell_type": "code",
   "execution_count": 11,
   "metadata": {},
   "outputs": [
    {
     "name": "stdout",
     "output_type": "stream",
     "text": [
      "0.75\n",
      "1.3333333333333333\n"
     ]
    }
   ],
   "source": [
    "# 실수값으로 리턴\n",
    "print(a / b)\n",
    "print(b / a)"
   ]
  },
  {
   "cell_type": "code",
   "execution_count": 12,
   "metadata": {},
   "outputs": [
    {
     "name": "stdout",
     "output_type": "stream",
     "text": [
      "0\n",
      "1\n"
     ]
    }
   ],
   "source": [
    "# 정수값만 리턴\n",
    "print(a // b)\n",
    "print(b // a)"
   ]
  },
  {
   "cell_type": "code",
   "execution_count": null,
   "metadata": {},
   "outputs": [],
   "source": []
  }
 ],
 "metadata": {
  "kernelspec": {
   "display_name": "Python 3",
   "language": "python",
   "name": "python3"
  },
  "language_info": {
   "codemirror_mode": {
    "name": "ipython",
    "version": 3
   },
   "file_extension": ".py",
   "mimetype": "text/x-python",
   "name": "python",
   "nbconvert_exporter": "python",
   "pygments_lexer": "ipython3",
   "version": "3.10.1"
  },
  "orig_nbformat": 4,
  "vscode": {
   "interpreter": {
    "hash": "26de051ba29f2982a8de78e945f0abaf191376122a1563185a90213a26c5da77"
   }
  }
 },
 "nbformat": 4,
 "nbformat_minor": 2
}
